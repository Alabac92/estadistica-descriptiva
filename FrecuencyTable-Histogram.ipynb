{
 "cells": [
  {
   "cell_type": "markdown",
   "metadata": {},
   "source": [
    "# Tablas de Frecuencias e Histograma con Python\n",
    "\n",
    "## Introducción\n",
    "El presente trabajo tiene como motivación facilitar la creación de tablas de frecuencia e histogramas de manera personalizada. Actualmente, el lenguaje de programación Python y su biblioteca Pandas, en conjunto con Matplotlib y Seaborn, permiten el análisis de datos para grandes conjuntos de datos, incluyendo su visualización. Sin embargo, su enfoque se centra principalmente en ámbitos más profesionales, dejando posiblemente de lado el ámbito educativo. ¿A qué me refiero? Al estudiar los temas pertinentes de estadística descriptiva, específicamente el diagrama diferencial conocido como histograma y su base de creación que son las tablas de frecuencia, me di cuenta de que realizar este proceso en las herramientas de oficina puede resultar tedioso, desviando tal vez la atención del estudiante de lo que, desde mi punto de vista personal, es la interpretación de los datos. Esto es así, ya que como mencioné, los paquetes informáticos actuales proporcionan poderosas herramientas que permiten realizar cálculos estadísticos y representaciones gráficas casi de forma automática. Incluso, actualmente, no es necesario tener conocimientos básicos de programación en Python debido a las innovaciones tecnológicas en el área de la inteligencia artificial.\n",
    "\n",
    "En este trabajo, describo el procedimiento para la creación de un script en Python que solicita al usuario un conjunto de datos unidimensional continuos. Estos datos pueden ser ingresados manualmente o automáticamente al insertar la ruta local del archivo en formato CSV. Finalmente, con los datos proporcionados, el script crea una tabla de frecuencias siguiendo el estándar impartido en el salón de clases y, además, crea un histograma. Permite al usuario seleccionar el tipo de regla empírica que desea utilizar para determinar el número de clases. Todo esto se logra utilizando las bibliotecas de Python: Pandas, Seaborn y Matplotlib.\n",
    "\n",
    "Para ejecutar este trabajo, simplemente abre un navegador web y busca el siguiente enlace: [Enlace a Google Colab](https://colab.research.google.com/). Luego, abre el presente archivo y ejecuta todas las celdas de este documento presionando Ctrl + F9.\n",
    "\n",
    "Según Vargas(1995) \"La representación del histograma esta fundamentada en la proporcionalidad de las áreas de rectángulos a las frecuencias de cada modalidad\". Es decir, que cada rectángulo representado en el histograma tiene una altura correspondiente a la frecuencia de esa clase."
   ]
  },
  {
   "cell_type": "markdown",
   "metadata": {},
   "source": [
    "## Desarrollo\n",
    "Para desarrollar el script descrito se sigue la siguiente metodología:\n",
    "    1. Solicitamos al usuario ingrese los datos manualmente o en su caso la ruta del archivo CSV.\n",
    "    2. Si los datos son ingresados via CSV, leemos dicho archivo y lo almacenamos como una serie de Pandas.\n",
    "    3. Ordenamos los datos de manera ascendente.\n",
    "    4. Se solicita el número de clases segun las reglas empíricas preprogramadas.\n",
    "    5. Creamos las clases seggún el número de clases obtenido, el ancho de clase encontrado.\n",
    "    6. Creamos la tabla de frecuencias.\n",
    "    7. Creamos el histograma.\n"
   ]
  },
  {
   "cell_type": "markdown",
   "metadata": {},
   "source": [
    "### 1. Solicitud de los datos al usuario"
   ]
  },
  {
   "cell_type": "code",
   "execution_count": 1,
   "metadata": {},
   "outputs": [],
   "source": [
    "import pandas as pd\n",
    "import seaborn as sns"
   ]
  },
  {
   "cell_type": "code",
   "execution_count": 12,
   "metadata": {},
   "outputs": [
    {
     "name": "stdout",
     "output_type": "stream",
     "text": [
      "Serie de Pandas creada:\n",
      "0      171,00\n",
      "1      174,00\n",
      "2      177,50\n",
      "3      170,90\n",
      "4      174,50\n",
      "        ...  \n",
      "595    170,30\n",
      "596    170,00\n",
      "597    179,00\n",
      "598    177,30\n",
      "599    173,90\n",
      "Name: Estatura (cm), Length: 600, dtype: object\n"
     ]
    }
   ],
   "source": [
    "# Definimos el menú principal\n",
    "def main_menu():\n",
    "    opc = input(\"¿Desea ingresar los datos manualmente (M) o cargar un archivo CSV (C)? \").upper()\n",
    "    \n",
    "    if opc == 'M':\n",
    "        # Datos ingresados manualmente\n",
    "\n",
    "        # Solicitar al usuario ingresar datos separados por comas\n",
    "        datos_str = input(\"Ingrese datos separados por comas: \")\n",
    "\n",
    "        # Convertir la cadena de entrada en una lista\n",
    "        datos_lista = [dato.strip() for dato in datos_str.split(',')]\n",
    "\n",
    "        # Crear una Serie de Pandas a partir de la lista\n",
    "        serie_datos = pd.Series(datos_lista)\n",
    "\n",
    "        # Mostrar la Serie resultante\n",
    "        print(\"Serie de Pandas creada:\")\n",
    "        print(serie_datos)\n",
    "\n",
    "    elif opc == 'C':\n",
    "        # Datos cargados desde un archivo CSV\n",
    "        # Solicitar al usuario ingresar la ruta del archivo CSV\n",
    "        ruta_archivo = input(\"Ingrese la ruta del archivo CSV: \")\n",
    "\n",
    "        try:\n",
    "            # Intentar cargar el archivo CSV en una serie de Pandas\n",
    "            nombre_columna = input(\"Ingrese el nombre de la columna de datos en el archivo CSV: \")\n",
    "            serie_datos = pd.read_csv(ruta_archivo)[nombre_columna]\n",
    "\n",
    "            # Verificar si la serie está vacía\n",
    "            if serie_datos.empty:\n",
    "                print(\"El archivo CSV está vacío o no contiene datos válidos.\")\n",
    "            else:\n",
    "                # Mostrar la Serie resultante\n",
    "                print(\"Serie de Pandas creada:\")\n",
    "                print(serie_datos)\n",
    "        except FileNotFoundError:\n",
    "            print(f\"No se encontró el archivo '{ruta_archivo}'. Por favor, verifique la ruta.\")\n",
    "        except pd.errors.ParserError:\n",
    "            print(\"El archivo CSV no es válido o no contiene datos válidos.\")\n",
    "        except Exception as e:\n",
    "            print(f\"Se produjo un error inesperado: {str(e)}\")\n",
    "\n",
    "# Llamar a la función principal\n",
    "main_menu()\n"
   ]
  }
 ],
 "metadata": {
  "kernelspec": {
   "display_name": "Python 3",
   "language": "python",
   "name": "python3"
  },
  "language_info": {
   "codemirror_mode": {
    "name": "ipython",
    "version": 3
   },
   "file_extension": ".py",
   "mimetype": "text/x-python",
   "name": "python",
   "nbconvert_exporter": "python",
   "pygments_lexer": "ipython3",
   "version": "3.10.12"
  },
  "orig_nbformat": 4
 },
 "nbformat": 4,
 "nbformat_minor": 2
}
