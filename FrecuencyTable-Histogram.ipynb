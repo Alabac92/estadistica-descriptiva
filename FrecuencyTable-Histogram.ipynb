{
 "cells": [
  {
   "cell_type": "markdown",
   "metadata": {},
   "source": [
    "# Tablas de Frecuencias e Histograma con Python\n",
    "\n",
    "## Introducción\n",
    "El presente trabajo tiene como motivación facilitar la creación de tablas de frecuencia e histogramas de manera personalizada. Actualmente, el lenguaje de programación Python y su biblioteca Pandas, en conjunto con Matplotlib y Seaborn, permiten el análisis de datos para grandes conjuntos de datos, incluyendo su visualización. Sin embargo, su enfoque se centra principalmente en ámbitos más profesionales, dejando posiblemente de lado el ámbito educativo. ¿A qué me refiero? Al estudiar los temas pertinentes de estadística descriptiva, específicamente el diagrama diferencial conocido como histograma y su base de creación que son las tablas de frecuencia, me di cuenta de que realizar este proceso en las herramientas de oficina puede resultar tedioso, desviando tal vez la atención del estudiante de lo que, desde mi punto de vista personal, es la interpretación de los datos. Esto es así, ya que como mencioné, los paquetes informáticos actuales proporcionan poderosas herramientas que permiten realizar cálculos estadísticos y representaciones gráficas casi de forma automática. Incluso, actualmente, no es necesario tener conocimientos básicos de programación en Python debido a las innovaciones tecnológicas en el área de la inteligencia artificial.\n",
    "\n",
    "En este trabajo, describo el procedimiento para la creación de un script en Python que solicita al usuario un conjunto de datos unidimensional continuos. Estos datos pueden ser ingresados manualmente o automáticamente al insertar la ruta local del archivo en formato CSV. Finalmente, con los datos proporcionados, el script crea una tabla de frecuencias siguiendo el estándar impartido en el salón de clases y, además, crea un histograma. Permite al usuario seleccionar el tipo de regla empírica que desea utilizar para determinar el número de clases. Todo esto se logra utilizando las bibliotecas de Python: Pandas, Seaborn y Matplotlib.\n",
    "\n",
    "Para ejecutar este trabajo, simplemente abre un navegador web y busca el siguiente enlace: [Enlace a Google Colab](https://colab.research.google.com/). Luego, abre el presente archivo y ejecuta todas las celdas de este documento presionando Ctrl + F9."
   ]
  },
  {
   "cell_type": "markdown",
   "metadata": {},
   "source": []
  }
 ],
 "metadata": {
  "kernelspec": {
   "display_name": "Python 3",
   "language": "python",
   "name": "python3"
  },
  "language_info": {
   "codemirror_mode": {
    "name": "ipython",
    "version": 3
   },
   "file_extension": ".py",
   "mimetype": "text/x-python",
   "name": "python",
   "nbconvert_exporter": "python",
   "pygments_lexer": "ipython3",
   "version": "3.10.12"
  },
  "orig_nbformat": 4
 },
 "nbformat": 4,
 "nbformat_minor": 2
}
